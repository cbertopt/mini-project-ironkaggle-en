{
 "cells": [
  {
   "cell_type": "code",
   "execution_count": 1,
   "metadata": {},
   "outputs": [
    {
     "name": "stdout",
     "output_type": "stream",
     "text": [
      "Expected R² Score on Training Data: 0.9929936375715187\n",
      "Root Mean Squared Error (RMSE) on Training Data: 322.37221609097196\n",
      "R² Score: 0.9929936375715187\n",
      "RMSE: 322.37221609097196\n",
      "Model training completed and saved to 'random_forest_model.pkl'. R² and RMSE saved to 'Expected_R2_Score_and_RMSE.txt'.\n"
     ]
    }
   ],
   "source": [
    "# train_model.py\n",
    "\n",
    "# Step 1: Import Necessary Libraries\n",
    "import pandas as pd\n",
    "import numpy as np\n",
    "from sklearn.ensemble import RandomForestRegressor\n",
    "from sklearn.metrics import r2_score, mean_squared_error\n",
    "import joblib  # For saving and loading the model\n",
    "\n",
    "# Step 2: Load and Preprocess the Training Data\n",
    "# Load the training dataset\n",
    "training_data = pd.read_csv(\"sales.csv\")\n",
    "\n",
    "# Basic preprocessing: Convert date column and create features\n",
    "if 'date' in training_data.columns:\n",
    "    training_data['date'] = pd.to_datetime(training_data['date'])\n",
    "    training_data['year'] = training_data['date'].dt.year\n",
    "    training_data['month'] = training_data['date'].dt.month\n",
    "    training_data['day'] = training_data['date'].dt.day\n",
    "    training_data['day_of_week'] = training_data['date'].dt.dayofweek\n",
    "\n",
    "# Remove unnecessary columns and define target and features\n",
    "X = training_data.drop(['sales', 'date'], axis=1)\n",
    "y = training_data['sales']\n",
    "\n",
    "# Encode categorical variables (if any)\n",
    "X = pd.get_dummies(X, drop_first=True)\n",
    "\n",
    "# Step 3: Train the Random Forest Model\n",
    "rf = RandomForestRegressor(n_estimators=100, random_state=42)\n",
    "rf.fit(X, y)\n",
    "\n",
    "# Step 4: Save the model to a file for reuse\n",
    "joblib.dump(rf, 'random_forest_model.pkl')\n",
    "\n",
    "# Step 5: Calculate R² Score and RMSE on the Training Data\n",
    "y_train_pred = rf.predict(X)\n",
    "expected_r2 = r2_score(y, y_train_pred)\n",
    "rmse = np.sqrt(mean_squared_error(y, y_train_pred))\n",
    "\n",
    "# Print the metrics\n",
    "print(f\"Expected R² Score on Training Data: {expected_r2}\")\n",
    "print(f\"Root Mean Squared Error (RMSE) on Training Data: {rmse}\")\n",
    "\n",
    "# Step 6: Save R² Score and RMSE to a File\n",
    "with open(\"Expected_R2_Score_and_RMSE.txt\", \"w\") as file:\n",
    "    file.write(f\"Expected R² Score: {expected_r2}\\n\")\n",
    "    file.write(f\"RMSE: {rmse}\\n\")\n",
    "\n",
    "print(f\"R² Score: {expected_r2}\")\n",
    "print(f\"RMSE: {rmse}\")\n",
    "print(\"Model training completed and saved to 'random_forest_model.pkl'. R² and RMSE saved to 'Expected_R2_Score_and_RMSE.txt'.\")\n"
   ]
  },
  {
   "cell_type": "code",
   "execution_count": null,
   "metadata": {},
   "outputs": [],
   "source": []
  }
 ],
 "metadata": {
  "kernelspec": {
   "display_name": "Python 3",
   "language": "python",
   "name": "python3"
  },
  "language_info": {
   "codemirror_mode": {
    "name": "ipython",
    "version": 3
   },
   "file_extension": ".py",
   "mimetype": "text/x-python",
   "name": "python",
   "nbconvert_exporter": "python",
   "pygments_lexer": "ipython3",
   "version": "3.11.2"
  },
  "orig_nbformat": 4
 },
 "nbformat": 4,
 "nbformat_minor": 2
}
